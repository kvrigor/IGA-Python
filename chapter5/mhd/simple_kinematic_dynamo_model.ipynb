{
 "cells": [
  {
   "cell_type": "markdown",
   "id": "7862dd84",
   "metadata": {},
   "source": [
    "# Simple Kinematic Dynamo Model\n",
    "\n",
    "Domain:\n",
    "Consider a 2D or 3D periodic domain.\n",
    "\n",
    "Boundary Conditions:\n",
    "- Periodic boundaries.\n",
    "\n",
    "Initial Conditions:\n",
    "- Small seed magnetic field perturbation.\n",
    "- Initially stationary fluid.\n",
    "\n",
    "Dynamo Term:\n",
    "- Choose a constant $\\alpha$ to represent the dynamo term.\n",
    "\n"
   ]
  },
  {
   "cell_type": "code",
   "execution_count": null,
   "id": "6948d035",
   "metadata": {},
   "outputs": [],
   "source": []
  }
 ],
 "metadata": {
  "kernelspec": {
   "display_name": "Python 3 (ipykernel)",
   "language": "python",
   "name": "python3"
  },
  "language_info": {
   "codemirror_mode": {
    "name": "ipython",
    "version": 3
   },
   "file_extension": ".py",
   "mimetype": "text/x-python",
   "name": "python",
   "nbconvert_exporter": "python",
   "pygments_lexer": "ipython3"
  }
 },
 "nbformat": 4,
 "nbformat_minor": 5
}
