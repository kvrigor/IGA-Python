{
 "cells": [
  {
   "cell_type": "markdown",
   "id": "49fb7a4a",
   "metadata": {},
   "source": [
    "# Magnetic Targeting in a Blood Vessel\n",
    "\n",
    "Domain:\n",
    "Model a section of a blood vessel.\n",
    "\n",
    "Finite Element Mesh:\n",
    "Use a realistic vascular geometry mesh or a simplified representation.\n",
    "\n",
    "Boundary Conditions:\n",
    "- Simulate blood flow using MHD principles.\n",
    "- Introduce drug-carrying particles with specified initial conditions.\n",
    "- Apply external magnetic fields to guide particles.\n",
    "\n",
    "Initial Conditions:\n",
    "- Set up an initial blood flow profile.\n",
    "- Inject drug-carrying particles into the bloodstream.\n",
    "\n"
   ]
  },
  {
   "cell_type": "code",
   "execution_count": null,
   "id": "684ab37c",
   "metadata": {},
   "outputs": [],
   "source": []
  }
 ],
 "metadata": {
  "kernelspec": {
   "display_name": "Python 3 (ipykernel)",
   "language": "python",
   "name": "python3"
  },
  "language_info": {
   "codemirror_mode": {
    "name": "ipython",
    "version": 3
   },
   "file_extension": ".py",
   "mimetype": "text/x-python",
   "name": "python",
   "nbconvert_exporter": "python",
   "pygments_lexer": "ipython3"
  }
 },
 "nbformat": 4,
 "nbformat_minor": 5
}
